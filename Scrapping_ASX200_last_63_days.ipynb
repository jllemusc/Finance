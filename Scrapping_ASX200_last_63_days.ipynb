{
  "nbformat": 4,
  "nbformat_minor": 0,
  "metadata": {
    "colab": {
      "name": "Scrapping ASX200 last 63 days",
      "provenance": [],
      "collapsed_sections": [],
      "authorship_tag": "ABX9TyNkzDnAh0Xkp2kamgF0A3Ce"
    },
    "kernelspec": {
      "name": "python3",
      "display_name": "Python 3"
    },
    "language_info": {
      "name": "python"
    }
  },
  "cells": [
    {
      "cell_type": "code",
      "execution_count": 2,
      "metadata": {
        "colab": {
          "base_uri": "https://localhost:8080/"
        },
        "id": "We35FPNinzwJ",
        "outputId": "dbce9dbd-ecda-44bc-d17d-67fa1bec41fa"
      },
      "outputs": [
        {
          "output_type": "stream",
          "name": "stdout",
          "text": [
            "Collecting yfinance\n",
            "  Downloading yfinance-0.1.70-py2.py3-none-any.whl (26 kB)\n",
            "Requirement already satisfied: multitasking>=0.0.7 in /usr/local/lib/python3.7/dist-packages (from yfinance) (0.0.10)\n",
            "Collecting requests>=2.26\n",
            "  Downloading requests-2.27.1-py2.py3-none-any.whl (63 kB)\n",
            "\u001b[K     |████████████████████████████████| 63 kB 1.7 MB/s \n",
            "\u001b[?25hRequirement already satisfied: pandas>=0.24.0 in /usr/local/lib/python3.7/dist-packages (from yfinance) (1.3.5)\n",
            "Collecting lxml>=4.5.1\n",
            "  Downloading lxml-4.8.0-cp37-cp37m-manylinux_2_17_x86_64.manylinux2014_x86_64.manylinux_2_24_x86_64.whl (6.4 MB)\n",
            "\u001b[K     |████████████████████████████████| 6.4 MB 31.3 MB/s \n",
            "\u001b[?25hRequirement already satisfied: numpy>=1.15 in /usr/local/lib/python3.7/dist-packages (from yfinance) (1.21.5)\n",
            "Requirement already satisfied: python-dateutil>=2.7.3 in /usr/local/lib/python3.7/dist-packages (from pandas>=0.24.0->yfinance) (2.8.2)\n",
            "Requirement already satisfied: pytz>=2017.3 in /usr/local/lib/python3.7/dist-packages (from pandas>=0.24.0->yfinance) (2018.9)\n",
            "Requirement already satisfied: six>=1.5 in /usr/local/lib/python3.7/dist-packages (from python-dateutil>=2.7.3->pandas>=0.24.0->yfinance) (1.15.0)\n",
            "Requirement already satisfied: charset-normalizer~=2.0.0 in /usr/local/lib/python3.7/dist-packages (from requests>=2.26->yfinance) (2.0.12)\n",
            "Requirement already satisfied: certifi>=2017.4.17 in /usr/local/lib/python3.7/dist-packages (from requests>=2.26->yfinance) (2021.10.8)\n",
            "Requirement already satisfied: urllib3<1.27,>=1.21.1 in /usr/local/lib/python3.7/dist-packages (from requests>=2.26->yfinance) (1.24.3)\n",
            "Requirement already satisfied: idna<4,>=2.5 in /usr/local/lib/python3.7/dist-packages (from requests>=2.26->yfinance) (2.10)\n",
            "Installing collected packages: requests, lxml, yfinance\n",
            "  Attempting uninstall: requests\n",
            "    Found existing installation: requests 2.23.0\n",
            "    Uninstalling requests-2.23.0:\n",
            "      Successfully uninstalled requests-2.23.0\n",
            "  Attempting uninstall: lxml\n",
            "    Found existing installation: lxml 4.2.6\n",
            "    Uninstalling lxml-4.2.6:\n",
            "      Successfully uninstalled lxml-4.2.6\n",
            "\u001b[31mERROR: pip's dependency resolver does not currently take into account all the packages that are installed. This behaviour is the source of the following dependency conflicts.\n",
            "google-colab 1.0.0 requires requests~=2.23.0, but you have requests 2.27.1 which is incompatible.\n",
            "datascience 0.10.6 requires folium==0.2.1, but you have folium 0.8.3 which is incompatible.\u001b[0m\n",
            "Successfully installed lxml-4.8.0 requests-2.27.1 yfinance-0.1.70\n"
          ]
        }
      ],
      "source": [
        "#libraries \n",
        "!pip3 install yfinance\n",
        "import yfinance as yf\n",
        "import numpy as np \n",
        "import pandas as pd\n",
        "from pandas_datareader import data as pdr\n",
        "import matplotlib.pyplot as plt\n",
        "yf.pdr_override() \n",
        "import datetime as dt \n",
        "from dateutil.relativedelta import relativedelta"
      ]
    },
    {
      "cell_type": "code",
      "source": [
        "#Get tickers symbols the ASX\n",
        "table = pd.read_html('https://en.wikipedia.org/wiki/S%26P/ASX_200')[0]\n",
        "table['Code'][:3]"
      ],
      "metadata": {
        "colab": {
          "base_uri": "https://localhost:8080/"
        },
        "id": "-TBVlCwRn4MN",
        "outputId": "8d7c4a6e-4565-4757-9c1b-f81bc1fa778f"
      },
      "execution_count": 34,
      "outputs": [
        {
          "output_type": "execute_result",
          "data": {
            "text/plain": [
              "0    360\n",
              "1    A2M\n",
              "2    ABC\n",
              "Name: Code, dtype: object"
            ]
          },
          "metadata": {},
          "execution_count": 34
        }
      ]
    },
    {
      "cell_type": "code",
      "source": [
        "list_of_companies = []\n",
        "for asset in table['Code']:\n",
        "  list_of_companies.append(asset+'.AX')\n",
        "print(list_of_companies)"
      ],
      "metadata": {
        "colab": {
          "base_uri": "https://localhost:8080/"
        },
        "id": "KKTK3OKxo6gU",
        "outputId": "eb2ea3a8-5f5b-4e37-92d6-e69fa8abeb49"
      },
      "execution_count": 28,
      "outputs": [
        {
          "output_type": "stream",
          "name": "stdout",
          "text": [
            "['360.AX', 'A2M.AX', 'ABC.AX', 'ABP.AX', 'AGL.AX', 'AIA.AX', 'AKE.AX', 'ALD.AX', 'ALL.AX', 'ALQ.AX', 'ALU.AX', 'ALX.AX', 'AMC.AX', 'AMP.AX', 'ANN.AX', 'ANZ.AX', 'APA.AX', 'APE.AX', 'SQ2.AX', 'APX.AX', 'ARB.AX', 'ARF.AX', 'ASX.AX', 'AUB.AX', 'AWC.AX', 'AZJ.AX', 'BAP.AX', 'BEN.AX', 'BGA.AX', 'BHP.AX', 'BKL.AX', 'BKW.AX', 'BLD.AX', 'BOQ.AX', 'BPT.AX', 'BRG.AX', 'BSL.AX', 'BWP.AX', 'BXB.AX', 'CAR.AX', 'CBA.AX', 'CCP.AX', 'CDA.AX', 'CGC.AX', 'CGF.AX', 'CHC.AX', 'CHN.AX', 'CIA.AX', 'CIM.AX', 'CIP.AX', 'CKF.AX', 'CLW.AX', 'CMW.AX', 'CNI.AX', 'CNU.AX', 'COH.AX', 'COL.AX', 'CPU.AX', 'CQR.AX', 'CSL.AX', 'CSR.AX', 'CTD.AX', 'CUV.AX', 'CWN.AX', 'CWY.AX', 'DHG.AX', 'DMP.AX', 'DOW.AX', 'DRR.AX', 'DXS.AX', 'EDV.AX', 'ELD.AX', 'EML.AX', 'EVN.AX', 'EVT.AX', 'FBU.AX', 'FLT.AX', 'FMG.AX', 'FPH.AX', 'GMG.AX', 'GNC.AX', 'GOR.AX', 'GOZ.AX', 'GPT.AX', 'GUD.AX', 'HLS.AX', 'HUB.AX', 'HVN.AX', 'IAG.AX', 'IEL.AX', 'IFL.AX', 'IGO.AX', 'ILU.AX', 'IMU.AX', 'INA.AX', 'ING.AX', 'IPH.AX', 'IPL.AX', 'IRE.AX', 'IVC.AX', 'JBH.AX', 'JHG.AX', 'JHX.AX', 'KLS.AX', 'LIC.AX', 'LLC.AX', 'LNK.AX', 'LTR.AX', 'LYC.AX', 'MFG.AX', 'MGR.AX', 'MIN.AX', 'MP1.AX', 'MPL.AX', 'MQG.AX', 'MSB.AX', 'MTS.AX', 'NAB.AX', 'NAN.AX', 'NCM.AX', 'NEC.AX', 'NHF.AX', 'NIC.AX', 'NSR.AX', 'NST.AX', 'NUF.AX', 'NVX.AX', 'NWL.AX', 'NWS.AX', 'NXT.AX', 'ORA.AX', 'ORG.AX', 'ORI.AX', 'OZL.AX', 'PBH.AX', 'PDL.AX', 'PDN.AX', 'PLS.AX', 'PME.AX', 'PMV.AX', 'PNI.AX', 'PNV.AX', 'PPT.AX', 'PRU.AX', 'PTM.AX', 'QAN.AX', 'QBE.AX', 'QUB.AX', 'REA.AX', 'REH.AX', 'RHC.AX', 'RIO.AX', 'RMD.AX', 'RMS.AX', 'RRL.AX', 'RWC.AX', 'S32.AX', 'SBM.AX', 'SCG.AX', 'SCP.AX', 'SDF.AX', 'SEK.AX', 'SFR.AX', 'SGM.AX', 'SGP.AX', 'SGR.AX', 'SHL.AX', 'SKC.AX', 'SLR.AX', 'SOL.AX', 'SPK.AX', 'STO.AX', 'SUL.AX', 'SUN.AX', 'SVW.AX', 'TLX.AX', 'TAH.AX', 'TCL.AX', 'TLS.AX', 'TNE.AX', 'TPG.AX', 'TWE.AX', 'TYR.AX', 'UMG.AX', 'URW.AX', 'UWL.AX', 'VCX.AX', 'VEA.AX', 'VUK.AX', 'WBC.AX', 'WEB.AX', 'WES.AX', 'WHC.AX', 'WOR.AX', 'WOW.AX', 'WPL.AX', 'WPR.AX', 'WTC.AX', 'XRO.AX', 'Z1P.AX']\n"
          ]
        }
      ]
    },
    {
      "cell_type": "code",
      "source": [
        "#Create function to identified performances\n",
        "def RoRcalculator(list_of_companies, period):\n",
        "    rorlist = []\n",
        "    for i in list_of_companies:\n",
        "        data = yf.Ticker(i)\n",
        "        data = data.history(period=period)\n",
        "        ror = (data.Close[-1] - data.Close[0]) / data.Close[0] * 100\n",
        "        rorlist.append(ror)\n",
        "    result = pd.DataFrame(data = {'Ticker': list_of_companies, \"RoR\": rorlist})\n",
        "    return result\n",
        "\n",
        "\n",
        "\n",
        "\n",
        "\n",
        "\n",
        "asx200ror = RoRcalculator(list_of_companies, period=\"63d\")"
      ],
      "metadata": {
        "id": "6PK7_4SmvqJL"
      },
      "execution_count": 29,
      "outputs": []
    },
    {
      "cell_type": "code",
      "source": [
        "#checking if we have any kind of problem in our database\n",
        "asx200ror.loc[asx200ror.RoR.isna()]"
      ],
      "metadata": {
        "colab": {
          "base_uri": "https://localhost:8080/",
          "height": 50
        },
        "id": "yr10FofExDmF",
        "outputId": "6cc50b2c-d1f5-4430-adc1-f37b3bb1a626"
      },
      "execution_count": 31,
      "outputs": [
        {
          "output_type": "execute_result",
          "data": {
            "text/plain": [
              "Empty DataFrame\n",
              "Columns: [Ticker, RoR]\n",
              "Index: []"
            ],
            "text/html": [
              "\n",
              "  <div id=\"df-01c7e37e-6431-409f-b12e-e3d6c9f93716\">\n",
              "    <div class=\"colab-df-container\">\n",
              "      <div>\n",
              "<style scoped>\n",
              "    .dataframe tbody tr th:only-of-type {\n",
              "        vertical-align: middle;\n",
              "    }\n",
              "\n",
              "    .dataframe tbody tr th {\n",
              "        vertical-align: top;\n",
              "    }\n",
              "\n",
              "    .dataframe thead th {\n",
              "        text-align: right;\n",
              "    }\n",
              "</style>\n",
              "<table border=\"1\" class=\"dataframe\">\n",
              "  <thead>\n",
              "    <tr style=\"text-align: right;\">\n",
              "      <th></th>\n",
              "      <th>Ticker</th>\n",
              "      <th>RoR</th>\n",
              "    </tr>\n",
              "  </thead>\n",
              "  <tbody>\n",
              "  </tbody>\n",
              "</table>\n",
              "</div>\n",
              "      <button class=\"colab-df-convert\" onclick=\"convertToInteractive('df-01c7e37e-6431-409f-b12e-e3d6c9f93716')\"\n",
              "              title=\"Convert this dataframe to an interactive table.\"\n",
              "              style=\"display:none;\">\n",
              "        \n",
              "  <svg xmlns=\"http://www.w3.org/2000/svg\" height=\"24px\"viewBox=\"0 0 24 24\"\n",
              "       width=\"24px\">\n",
              "    <path d=\"M0 0h24v24H0V0z\" fill=\"none\"/>\n",
              "    <path d=\"M18.56 5.44l.94 2.06.94-2.06 2.06-.94-2.06-.94-.94-2.06-.94 2.06-2.06.94zm-11 1L8.5 8.5l.94-2.06 2.06-.94-2.06-.94L8.5 2.5l-.94 2.06-2.06.94zm10 10l.94 2.06.94-2.06 2.06-.94-2.06-.94-.94-2.06-.94 2.06-2.06.94z\"/><path d=\"M17.41 7.96l-1.37-1.37c-.4-.4-.92-.59-1.43-.59-.52 0-1.04.2-1.43.59L10.3 9.45l-7.72 7.72c-.78.78-.78 2.05 0 2.83L4 21.41c.39.39.9.59 1.41.59.51 0 1.02-.2 1.41-.59l7.78-7.78 2.81-2.81c.8-.78.8-2.07 0-2.86zM5.41 20L4 18.59l7.72-7.72 1.47 1.35L5.41 20z\"/>\n",
              "  </svg>\n",
              "      </button>\n",
              "      \n",
              "  <style>\n",
              "    .colab-df-container {\n",
              "      display:flex;\n",
              "      flex-wrap:wrap;\n",
              "      gap: 12px;\n",
              "    }\n",
              "\n",
              "    .colab-df-convert {\n",
              "      background-color: #E8F0FE;\n",
              "      border: none;\n",
              "      border-radius: 50%;\n",
              "      cursor: pointer;\n",
              "      display: none;\n",
              "      fill: #1967D2;\n",
              "      height: 32px;\n",
              "      padding: 0 0 0 0;\n",
              "      width: 32px;\n",
              "    }\n",
              "\n",
              "    .colab-df-convert:hover {\n",
              "      background-color: #E2EBFA;\n",
              "      box-shadow: 0px 1px 2px rgba(60, 64, 67, 0.3), 0px 1px 3px 1px rgba(60, 64, 67, 0.15);\n",
              "      fill: #174EA6;\n",
              "    }\n",
              "\n",
              "    [theme=dark] .colab-df-convert {\n",
              "      background-color: #3B4455;\n",
              "      fill: #D2E3FC;\n",
              "    }\n",
              "\n",
              "    [theme=dark] .colab-df-convert:hover {\n",
              "      background-color: #434B5C;\n",
              "      box-shadow: 0px 1px 3px 1px rgba(0, 0, 0, 0.15);\n",
              "      filter: drop-shadow(0px 1px 2px rgba(0, 0, 0, 0.3));\n",
              "      fill: #FFFFFF;\n",
              "    }\n",
              "  </style>\n",
              "\n",
              "      <script>\n",
              "        const buttonEl =\n",
              "          document.querySelector('#df-01c7e37e-6431-409f-b12e-e3d6c9f93716 button.colab-df-convert');\n",
              "        buttonEl.style.display =\n",
              "          google.colab.kernel.accessAllowed ? 'block' : 'none';\n",
              "\n",
              "        async function convertToInteractive(key) {\n",
              "          const element = document.querySelector('#df-01c7e37e-6431-409f-b12e-e3d6c9f93716');\n",
              "          const dataTable =\n",
              "            await google.colab.kernel.invokeFunction('convertToInteractive',\n",
              "                                                     [key], {});\n",
              "          if (!dataTable) return;\n",
              "\n",
              "          const docLinkHtml = 'Like what you see? Visit the ' +\n",
              "            '<a target=\"_blank\" href=https://colab.research.google.com/notebooks/data_table.ipynb>data table notebook</a>'\n",
              "            + ' to learn more about interactive tables.';\n",
              "          element.innerHTML = '';\n",
              "          dataTable['output_type'] = 'display_data';\n",
              "          await google.colab.output.renderOutput(dataTable, element);\n",
              "          const docLink = document.createElement('div');\n",
              "          docLink.innerHTML = docLinkHtml;\n",
              "          element.appendChild(docLink);\n",
              "        }\n",
              "      </script>\n",
              "    </div>\n",
              "  </div>\n",
              "  "
            ]
          },
          "metadata": {},
          "execution_count": 31
        }
      ]
    },
    {
      "cell_type": "code",
      "source": [
        "asx200 = asx200ror.sort_values(by='RoR', ascending = False)\n",
        "print(asx200)"
      ],
      "metadata": {
        "colab": {
          "base_uri": "https://localhost:8080/"
        },
        "id": "3phcY7cEwwRq",
        "outputId": "a23d4c64-52dd-4f11-feef-4c9e50206cbc"
      },
      "execution_count": 42,
      "outputs": [
        {
          "output_type": "stream",
          "name": "stdout",
          "text": [
            "     Ticker        RoR\n",
            "192  WHC.AX  60.545739\n",
            "163  SGM.AX  41.225356\n",
            "125  NUF.AX  39.705878\n",
            "195  WPL.AX  35.173764\n",
            "143  PRU.AX  33.259748\n",
            "..      ...        ...\n",
            "93   IMU.AX -39.436617\n",
            "182  TYR.AX -43.702287\n",
            "175  TLX.AX -44.864228\n",
            "134  PBH.AX -47.936510\n",
            "199  Z1P.AX -67.546173\n",
            "\n",
            "[200 rows x 2 columns]\n"
          ]
        }
      ]
    },
    {
      "cell_type": "code",
      "source": [
        "#Top 5 performance companies in Australia ASX200 in the last 63 days \n",
        "print(round(asx200[:5].sort_values(by='RoR', ascending= False),2))"
      ],
      "metadata": {
        "colab": {
          "base_uri": "https://localhost:8080/"
        },
        "id": "fStKgRHq2GHC",
        "outputId": "e93c0db3-548d-4af7-e4bd-f32e62f1c851"
      },
      "execution_count": 50,
      "outputs": [
        {
          "output_type": "stream",
          "name": "stdout",
          "text": [
            "     Ticker    RoR\n",
            "192  WHC.AX  60.55\n",
            "163  SGM.AX  41.23\n",
            "125  NUF.AX  39.71\n",
            "195  WPL.AX  35.17\n",
            "143  PRU.AX  33.26\n"
          ]
        }
      ]
    },
    {
      "cell_type": "code",
      "source": [
        "#Top 5 worst companies in Australia ASX200 in the last 63 days \n",
        "print(round(asx200[-5:].sort_values(by='RoR'),2))"
      ],
      "metadata": {
        "colab": {
          "base_uri": "https://localhost:8080/"
        },
        "id": "o8pn7yV22YE6",
        "outputId": "3821408d-a5ad-42b8-a326-414bfd0f4eac"
      },
      "execution_count": 51,
      "outputs": [
        {
          "output_type": "stream",
          "name": "stdout",
          "text": [
            "     Ticker    RoR\n",
            "199  Z1P.AX -67.55\n",
            "134  PBH.AX -47.94\n",
            "175  TLX.AX -44.86\n",
            "182  TYR.AX -43.70\n",
            "93   IMU.AX -39.44\n"
          ]
        }
      ]
    }
  ]
}