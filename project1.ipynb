{
  "nbformat": 4,
  "nbformat_minor": 0,
  "metadata": {
    "colab": {
      "name": "Untitled1.ipynb",
      "provenance": [],
      "authorship_tag": "ABX9TyMlGC1EnZT1UUR0P1g/wvT2"
    },
    "kernelspec": {
      "name": "python3",
      "display_name": "Python 3"
    },
    "language_info": {
      "name": "python"
    }
  },
  "cells": [
    {
      "cell_type": "markdown",
      "metadata": {
        "id": "iaaOPF-yel1f"
      },
      "source": [
        "#**Description: This program uses the three moving average crossover strategy to dermine when to buy and sell stock**"
      ]
    },
    {
      "cell_type": "code",
      "metadata": {
        "id": "_SDGzMOcef_1",
        "colab": {
          "base_uri": "https://localhost:8080/",
          "height": 134
        },
        "outputId": "ed861c34-4ae9-448b-f40e-5e6d2ed46bed"
      },
      "source": [
        "!pip3 install yfinance\n",
        "import yfinance as yf\n",
        "import numpy as np \n",
        "import pandas as pd\n",
        "from pandas_datareader import data as pdr\n",
        "import matplotlib.pyplot as plt\n",
        "yf.pdr_override() \n",
        "import datetime as dt \n",
        "from dateutil.relativedelta import relativedelta\n",
        "plt.style.use('fivethirtyeight')\n",
        "\n",
        "#https://www.canva.com/design/DAEt1K1NLcE/i1HEuRTjXj-WK0kpMNOcuA/view?utm_content=DAEt1K1NLcE&utm_campaign=designshare&utm_medium=link&utm_source=sharebutton"
      ],
      "execution_count": 217,
      "outputs": [
        {
          "output_type": "error",
          "ename": "SyntaxError",
          "evalue": "ignored",
          "traceback": [
            "\u001b[0;36m  File \u001b[0;32m\"<ipython-input-217-2ef23c64a6e3>\"\u001b[0;36m, line \u001b[0;32m12\u001b[0m\n\u001b[0;31m    https://www.canva.com/design/DAEt1K1NLcE/i1HEuRTjXj-WK0kpMNOcuA/view?utm_content=DAEt1K1NLcE&utm_campaign=designshare&utm_medium=link&utm_source=sharebutton\u001b[0m\n\u001b[0m           ^\u001b[0m\n\u001b[0;31mSyntaxError\u001b[0m\u001b[0;31m:\u001b[0m invalid syntax\n"
          ]
        }
      ]
    },
    {
      "cell_type": "markdown",
      "metadata": {
        "id": "-yv9d_tEgWiJ"
      },
      "source": [
        "Load the data"
      ]
    },
    {
      "cell_type": "markdown",
      "metadata": {
        "id": "uh9FmX3jWHi1"
      },
      "source": [
        "**The magic happens here**. \n",
        "What is the period of time you want to analyse?"
      ]
    },
    {
      "cell_type": "code",
      "metadata": {
        "id": "iEBoA04Efw3D"
      },
      "source": [
        "tick = yf.Ticker('PL=F') # ADA-USD # EURUSD%3DX # EURGBP%3DX # HG=F #CAKE\n",
        "hist = tick.history(period='360d')['Close']"
      ],
      "execution_count": null,
      "outputs": []
    },
    {
      "cell_type": "markdown",
      "metadata": {
        "id": "9jKIN2_Kp0Pu"
      },
      "source": [
        "Show the data only two values\n"
      ]
    },
    {
      "cell_type": "code",
      "metadata": {
        "id": "rvayqHlCghgq"
      },
      "source": [
        "hist[-2:]"
      ],
      "execution_count": null,
      "outputs": []
    },
    {
      "cell_type": "markdown",
      "metadata": {
        "id": "Kki-Icp2xw20"
      },
      "source": [
        "Visually see the data"
      ]
    },
    {
      "cell_type": "code",
      "metadata": {
        "id": "EVEknVTKxwfh"
      },
      "source": [
        "plt.figure(figsize=(12,5))\n",
        "plt.title('Close price',fontsize = 10)\n",
        "plt.plot(hist)\n",
        "plt.xlabel('Date', fontsize = 10)\n",
        "plt.ylabel('Close Price', fontsize = 10)\n",
        "plt.xticks(rotation=45, fontsize = 8)\n",
        "plt.show"
      ],
      "execution_count": null,
      "outputs": []
    },
    {
      "cell_type": "markdown",
      "metadata": {
        "id": "D7LeOjYh124r"
      },
      "source": [
        "Calculate the three moving averages,\n",
        "Calculate the short / fast exponential moving average"
      ]
    },
    {
      "cell_type": "markdown",
      "metadata": {
        "id": "5MKFchr1UFWn"
      },
      "source": [
        "**MAGIC IS HERE**\n",
        "\n",
        "Be cautious because small periods create more signals but at the same time create more false positives. On the other hand, longer periods create fewer signals but you minimise your false positives. \n",
        "\n",
        ">> LONG TERM SIGNALS ANALYSIS (50,100,200) Fewer Falses positives\n",
        "\n",
        ">> MEDIUM TERM SIGNALS ANALYSIS (25,50,100)\n",
        "\n",
        ">> SHORT TERM SIGNALS ANALSYSIS (7,25,50) A lot Falses positives\n",
        "\n",
        "Further reading: https://www.investopedia.com/ask/answers/122414/what-are-most-common-periods-used-creating-moving-average-ma-lines.asp"
      ]
    },
    {
      "cell_type": "code",
      "metadata": {
        "id": "CDri0PdZ11cN"
      },
      "source": [
        "short = 50\n",
        "middle = 100\n",
        "long1 =200\n",
        "\n",
        "#short short/fast exponential moving average\n",
        "ShortEMA = hist.ewm(span= short,adjust=False).mean()\n",
        "# Middle/Medium exponential moving average\n",
        "MiddleEMA = hist.ewm(span= middle,adjust=False).mean()\n",
        "# long/slow exponential moving average\n",
        "LongEMA = hist.ewm(span= long1,adjust=False).mean()"
      ],
      "execution_count": null,
      "outputs": []
    },
    {
      "cell_type": "markdown",
      "metadata": {
        "id": "ZgAEAmYW4J7v"
      },
      "source": [
        "Visualize the graph"
      ]
    },
    {
      "cell_type": "code",
      "metadata": {
        "id": "9KX6Kc7p4Gth"
      },
      "source": [
        "plt.figure(figsize=(12,5))\n",
        "plt.title('Close price',fontsize = 15)\n",
        "plt.plot(hist, label = 'close price', color='blue')\n",
        "plt.plot(ShortEMA, label = 'short/fast EMA', color='red')\n",
        "plt.plot(MiddleEMA, label = 'Middle/Medium EMA', color='orange')\n",
        "plt.plot(LongEMA, label =  'long/slow EMA', color='green')\n",
        "plt.legend(loc='upper left', shadow=True,fontsize = 10)\n",
        "\n",
        "plt.xticks(rotation=45, fontsize = 8)\n",
        "plt.xlabel('Date', fontsize = 12)\n",
        "plt.ylabel('Close Price', fontsize = 12)\n",
        "plt.show"
      ],
      "execution_count": null,
      "outputs": []
    },
    {
      "cell_type": "markdown",
      "metadata": {
        "id": "nZ-wk-0sNwnB"
      },
      "source": [
        "Add the information to the a new dataframe"
      ]
    },
    {
      "cell_type": "code",
      "metadata": {
        "id": "gh87wOFAK7mr"
      },
      "source": [
        "hist1 = pd.DataFrame(hist)"
      ],
      "execution_count": null,
      "outputs": []
    },
    {
      "cell_type": "code",
      "metadata": {
        "id": "_vWYpGZxLdLt"
      },
      "source": [
        "hist1['Short']= ShortEMA\n",
        "hist1['Middle']= MiddleEMA\n",
        "hist1['Long']= LongEMA"
      ],
      "execution_count": null,
      "outputs": []
    },
    {
      "cell_type": "code",
      "metadata": {
        "id": "g6113XhSOak4"
      },
      "source": [
        "hist.head(2)"
      ],
      "execution_count": null,
      "outputs": []
    },
    {
      "cell_type": "markdown",
      "metadata": {
        "id": "_vpwzRxn9Q0Z"
      },
      "source": [
        "Create the function to buy and sell the stock\n"
      ]
    },
    {
      "cell_type": "code",
      "metadata": {
        "id": "6DdeUdpk9P_3"
      },
      "source": [
        "def buy_sell_function(data):\n",
        "\n",
        "  buy_list = []\n",
        "  sell_list = []\n",
        "  flag_long = False\n",
        "  flag_short = False\n",
        "\n",
        "  for i in range(0, len(data)):\n",
        "    if data['Middle'][i] < data['Long'][i] and data['Short'][i] < data['Middle'][i] and flag_long == False and flag_short == False:\n",
        "      buy_list.append(data['Close'][i])\n",
        "      sell_list.append(np.nan)\n",
        "      flag_short = True\n",
        "    elif flag_short == True and data['Short'][i] > data ['Middle'][i]:\n",
        "      sell_list.append(data['Close'][i])\n",
        "      buy_list.append(np.nan)\n",
        "      flag_short = False\n",
        "    elif data['Middle'][i] > data['Long'][i] and data['Short'][i] > data['Middle'][i] and flag_long == False and flag_short == False:\n",
        "      buy_list.append(data['Close'][i])\n",
        "      sell_list.append(np.nan)\n",
        "      flag_long = True\n",
        "    elif flag_long == True and data['Short'][i] < data ['Middle'][i]:\n",
        "      sell_list.append(data['Close'][i])\n",
        "      buy_list.append(np.nan)\n",
        "      flag_long = False\n",
        "    else:\n",
        "      buy_list.append(np.nan)\n",
        "      sell_list.append(np.nan)\n",
        "  return (buy_list, sell_list)\n",
        "\n"
      ],
      "execution_count": null,
      "outputs": []
    },
    {
      "cell_type": "markdown",
      "metadata": {
        "id": "i91IAKfjSOvw"
      },
      "source": [
        "Add the buy and sell signals to the data set"
      ]
    },
    {
      "cell_type": "code",
      "metadata": {
        "id": "8I5y3T5LSMgi"
      },
      "source": [
        "hist1['Buy'] = buy_sell_function(hist1)[0]\n",
        "hist1['Sell'] = buy_sell_function(hist1)[1]"
      ],
      "execution_count": null,
      "outputs": []
    },
    {
      "cell_type": "markdown",
      "metadata": {
        "id": "wnkkXdr7TOix"
      },
      "source": [
        "Check visually in the graphic"
      ]
    },
    {
      "cell_type": "code",
      "metadata": {
        "id": "z5ZgUqO1TTrs"
      },
      "source": [
        "plt.figure(figsize=(12,5))\n",
        "plt.title('Buy and sell plot',fontsize = 17)\n",
        "plt.plot(hist, label = 'close price', color='blue', alpha = 1, linewidth = 2)\n",
        "plt.plot(ShortEMA, label = 'short/fast EMA', color='red', alpha = 0.7, linewidth = 0.5)\n",
        "plt.plot(MiddleEMA, label = 'Middle/Medium EMA', color='red', alpha = 0.7, linewidth = 0.7)\n",
        "plt.plot(LongEMA, label =  'long/slow EMA', color='green', alpha = 0.7, linewidth = 0.7)\n",
        "plt.scatter(hist.index, hist1['Buy'], color = 'green', marker = '^', alpha= 1, s = 250 )\n",
        "plt.scatter(hist.index,hist1['Sell'], color = 'red', marker = 'v', alpha= 1, s =250)\n",
        "plt.legend(loc='upper left', shadow=True,fontsize = 10)\n",
        "plt.xticks(rotation=45, fontsize = 8)\n",
        "plt.xticks(rotation=45, fontsize = 8)\n",
        "plt.xlabel('Date', fontsize = 12)\n",
        "plt.ylabel('Close Price', fontsize = 12)\n",
        "plt.show"
      ],
      "execution_count": null,
      "outputs": []
    },
    {
      "cell_type": "code",
      "metadata": {
        "id": "w9wunZgl7Cee"
      },
      "source": [
        "hist1.describe()"
      ],
      "execution_count": null,
      "outputs": []
    },
    {
      "cell_type": "markdown",
      "metadata": {
        "id": "wEuBM8gFQpNW"
      },
      "source": [
        "Further Reading:\n",
        "\n",
        "https://www.investopedia.com/terms/t/technical-analysis-of-stocks-and-trends.asp\n",
        "\n",
        "https://www.investopedia.com/terms/m/movingaverage.asp"
      ]
    }
  ]
}